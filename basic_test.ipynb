{
 "metadata": {
  "language_info": {
   "codemirror_mode": {
    "name": "ipython",
    "version": 3
   },
   "file_extension": ".py",
   "mimetype": "text/x-python",
   "name": "python",
   "nbconvert_exporter": "python",
   "pygments_lexer": "ipython3",
   "version": "3.8.5-final"
  },
  "orig_nbformat": 2,
  "kernelspec": {
   "name": "python3",
   "display_name": "Python 3",
   "language": "python"
  }
 },
 "nbformat": 4,
 "nbformat_minor": 2,
 "cells": [
  {
   "cell_type": "code",
   "execution_count": 2,
   "metadata": {},
   "outputs": [
    {
     "output_type": "execute_result",
     "data": {
      "text/plain": [
       "'https://www.newegg.com/p/pl?d=processor'"
      ]
     },
     "metadata": {},
     "execution_count": 2
    }
   ],
   "source": [
    "import bs4\n",
    "from urllib.request import urlopen as uReq\n",
    "from bs4 import BeautifulSoup as soup\n",
    "\n",
    "my_url = 'https://www.newegg.com/p/pl?d=processor'\n",
    "my_url"
   ]
  },
  {
   "cell_type": "code",
   "execution_count": 3,
   "metadata": {},
   "outputs": [],
   "source": [
    "uClient = uReq(my_url)"
   ]
  },
  {
   "cell_type": "code",
   "execution_count": 4,
   "metadata": {},
   "outputs": [],
   "source": [
    "page_html = uClient.read()"
   ]
  },
  {
   "cell_type": "code",
   "execution_count": 5,
   "metadata": {},
   "outputs": [],
   "source": [
    "uClient.close()"
   ]
  },
  {
   "cell_type": "code",
   "execution_count": 6,
   "metadata": {},
   "outputs": [],
   "source": [
    "page_soup = soup(page_html, 'html.parser')"
   ]
  },
  {
   "cell_type": "code",
   "execution_count": 7,
   "metadata": {},
   "outputs": [],
   "source": [
    "containers = page_soup.find_all('div', {'class': 'item-container'})"
   ]
  },
  {
   "cell_type": "code",
   "execution_count": 8,
   "metadata": {},
   "outputs": [
    {
     "output_type": "execute_result",
     "data": {
      "text/plain": [
       "36"
      ]
     },
     "metadata": {},
     "execution_count": 8
    }
   ],
   "source": [
    "len(containers)"
   ]
  },
  {
   "cell_type": "code",
   "execution_count": 9,
   "metadata": {},
   "outputs": [
    {
     "output_type": "execute_result",
     "data": {
      "text/plain": [
       "<div class=\"item-container\"><a class=\"item-img\" href=\"https://www.newegg.com/amd-ryzen-9-3950x/p/N82E16819113616?Description=processor&amp;cm_re=processor-_-19-113-616-_-Product\"><img alt=\"AMD Ryzen 9 3950X 16-Core 3.5 GHz Socket AM4 105W 100-100000051WOF Desktop Processor\" src=\"https://c1.neweggimages.com/ProductImageCompressAll300/19-113-616-V07.jpg\" title=\"AMD Ryzen 9 3950X 16-Core 3.5 GHz Socket AM4 105W 100-100000051WOF Desktop Processor\"/></a><div class=\"item-info\"><div class=\"item-branding\"><a class=\"item-brand\" href=\"https://www.newegg.com/AMD/BrandStore/ID-1028\"><img alt=\"AMD\" src=\"https://c1.neweggimages.com/Brandimage_70x28/Brand1028.gif\" title=\"AMD\"/></a><a class=\"item-rating\" href=\"https://www.newegg.com/amd-ryzen-9-3950x/p/N82E16819113616?IsFeedbackTab=true#scrollFullInfo\" title=\"Rating + 5\"><i class=\"rating rating-5\"></i><span class=\"item-rating-num\">(154)</span></a></div><a class=\"item-title\" href=\"https://www.newegg.com/amd-ryzen-9-3950x/p/N82E16819113616?Description=processor&amp;cm_re=processor-_-19-113-616-_-Product\" title=\"View Details\">AMD Ryzen 9 3950X 16-Core 3.5 GHz Socket AM4 105W 100-100000051WOF Desktop Processor</a><p class=\"item-promo\"><i class=\"item-promo-icon\"></i>+ $10 off w/ promo code 29SWEETDL264, limited offer</p><ul class=\"item-features\"><li><strong>Series:</strong> Ryzen 9 3rd Gen</li><li><strong>L3 Cache:</strong> 64MB</li><li><strong>L2 Cache:</strong> 8MB</li><li><strong>Cooling Device:</strong> Cooling device not included - Processor Only</li><li><strong>Model #: </strong>100-100000051WOF</li><li><strong>Item #: </strong>N82E16819113616</li><li><strong>Return Policy: </strong><a href=\"https://kb.newegg.com/Article/Index/12/3?id=1167#53\" target=\"_blank\" title=\"Extended Holiday Return Policy(New Window)\">Extended Holiday Return Policy</a></li></ul></div><div class=\"item-action\"><ul class=\"price\"><li class=\"price-was\"></li><li class=\"price-map\"> </li><li class=\"price-current\"><span class=\"price-current-label\"></span>$<strong>729</strong><sup>.99</sup> <a class=\"price-current-num\" href=\"https://www.newegg.com/amd-ryzen-9-3950x/p/N82E16819113616?Item=N82E16819113616&amp;Description=processor&amp;buyingoptions=New\">(16 Offers)</a><span class=\"price-current-range\"><abbr title=\"to\">–</abbr></span></li><li class=\"price-save\"><span class=\"price-save-endtime\"><strong>Sale Ends in 2 Days (Thu)</strong> - </span></li><li class=\"price-ship\">Free Shipping</li></ul><p class=\"item-msg\"><a class=\"shipped-by-newegg\" href=\"https://kb.newegg.com/knowledge-base/shipped-by-newegg/\">Shipped by Newegg</a></p><div class=\"item-operate\"><div class=\"item-button-area\"><button class=\"btn btn-mini\" title=\"View Details \">View Details <i class=\"fas fa-caret-right\"></i></button></div><div class=\"item-compare-box\"><label class=\"form-checkbox\"><input autocomplete=\"off\" type=\"checkbox\"/><span class=\"form-checkbox-title\">Compare</span></label></div></div></div><div class=\"item-stock\" id=\"stock_19-113-616\"></div></div>"
      ]
     },
     "metadata": {},
     "execution_count": 9
    }
   ],
   "source": [
    "containers[0]"
   ]
  },
  {
   "cell_type": "code",
   "execution_count": 10,
   "metadata": {},
   "outputs": [],
   "source": [
    "container = containers[0]"
   ]
  },
  {
   "cell_type": "code",
   "execution_count": 11,
   "metadata": {},
   "outputs": [
    {
     "output_type": "execute_result",
     "data": {
      "text/plain": [
       "'AMD'"
      ]
     },
     "metadata": {},
     "execution_count": 11
    }
   ],
   "source": [
    "container.div.div.a.img['title']"
   ]
  },
  {
   "cell_type": "code",
   "execution_count": 14,
   "metadata": {},
   "outputs": [
    {
     "output_type": "execute_result",
     "data": {
      "text/plain": [
       "[<a class=\"item-title\" href=\"https://www.newegg.com/amd-ryzen-9-3950x/p/N82E16819113616?Description=processor&amp;cm_re=processor-_-19-113-616-_-Product\" title=\"View Details\">AMD Ryzen 9 3950X 16-Core 3.5 GHz Socket AM4 105W 100-100000051WOF Desktop Processor</a>]"
      ]
     },
     "metadata": {},
     "execution_count": 14
    }
   ],
   "source": [
    "title_container = container.findAll('a', {'class': 'item-title'})\n",
    "title_container"
   ]
  }
 ]
}