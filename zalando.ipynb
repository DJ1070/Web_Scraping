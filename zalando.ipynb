{
 "metadata": {
  "language_info": {
   "codemirror_mode": {
    "name": "ipython",
    "version": 3
   },
   "file_extension": ".py",
   "mimetype": "text/x-python",
   "name": "python",
   "nbconvert_exporter": "python",
   "pygments_lexer": "ipython3",
   "version": "3.8.5-final"
  },
  "orig_nbformat": 2,
  "kernelspec": {
   "name": "python3",
   "display_name": "Python 3",
   "language": "python"
  }
 },
 "nbformat": 4,
 "nbformat_minor": 2,
 "cells": [
  {
   "cell_type": "code",
   "execution_count": 47,
   "metadata": {},
   "outputs": [],
   "source": [
    "import bs4\n",
    "from urllib.request import urlopen as uReq\n",
    "from bs4 import BeautifulSoup as soup\n",
    "\n",
    "my_url = 'https://www.zalando.de/damen/?q=Diesel+jeans'\n",
    "\n",
    "uClient = uReq(my_url)\n",
    "page_html = uClient.read()\n",
    "uClient.close()\n",
    "\n",
    "page_soup = soup(page_html, 'html.parser')\n",
    "\n",
    "containers = page_soup.find_all('div', {'class': 'qMZa55 SQGpu8 iOzucJ JT3_zV DvypSJ'})"
   ]
  },
  {
   "cell_type": "code",
   "execution_count": 48,
   "metadata": {},
   "outputs": [
    {
     "output_type": "execute_result",
     "data": {
      "text/plain": [
       "<div class=\"qMZa55 SQGpu8 iOzucJ JT3_zV DvypSJ\"><article class=\"_0mW-4D _0xLoFW JT3_zV mo6ZnF jtKZOh _78xIQ-\" role=\"link\"><a aria-label=\"SLANDY LOW - Jeans Skinny Fit - indigo - Diesel. Preis 149,95 €\" class=\"g88eG_ oHRBzn LyRfpJ _LM JT3_zV g88eG_\" href=\"/diesel-slandy-low-jeans-skinny-fit-indigo-di121n08p-k12.html\" rel=\"\"><figure class=\"heWLCX\"><div class=\"JT3_zV ZkIJC- _9QaS6n pckW89 csmaMi\"><div class=\"KVKCn3 u-C3dd jDGwVr mo6ZnF KLaowZ\"><img alt=\"SLANDY LOW - Jeans Skinny Fit - indigo\" class=\"_6uf91T z-oVg8 u-6V88 ka2E9k uMhVZi FxZV-M _2Pvyxl JT3_zV EKabf7 mo6ZnF _1RurXL mo6ZnF PZ5eVw\" draggable=\"false\" sizes=\"(min-width: 1024px) 303px, (min-width: 768px) 215px, (min-width: 480px) 168px, calc(50vw - 30px)\" src=\"https://img01.ztat.net/article/spp-media-p1/f58dbbaa6a5a348fafb1607d3fcc4ff3/155e8407dd314581b80169ebac610d22.jpg?imwidth=606\" srcset=\"https://img01.ztat.net/article/spp-media-p1/f58dbbaa6a5a348fafb1607d3fcc4ff3/155e8407dd314581b80169ebac610d22.jpg?imwidth=303 303w, https://img01.ztat.net/article/spp-media-p1/f58dbbaa6a5a348fafb1607d3fcc4ff3/155e8407dd314581b80169ebac610d22.jpg?imwidth=430 430w, https://img01.ztat.net/article/spp-media-p1/f58dbbaa6a5a348fafb1607d3fcc4ff3/155e8407dd314581b80169ebac610d22.jpg?imwidth=606 606w\"/></div></div></figure></a><div class=\"KVKCn3 _2dqvZS _4PwIQ df4QKn _LM\"><button aria-pressed=\"false\" class=\"_7HqEu_ r9BRio Md_Vex NN8L-8 heWLCX LyRfpJ reVeb9 NqFdIM\" type=\"button\"><span class=\"pVrzNP Qi5iSY JT3_zV _0xLoFW u9KIT8 FCIprz NB8Ll4 _2Pvyxl\"><svg aria-hidden=\"false\" class=\"zds-icon RC794g _98USAM DlJ4rT fo5HXp WIqSwL aRWWLN H3jvU7\" fill=\"currentColor\" focusable=\"false\" height=\"1em\" viewbox=\"0 0 24 24\" width=\"1em\"><path d=\"M17.49 1.1l-.15.01A6.55 6.55 0 0012 3.91a6.57 6.57 0 00-5.37-2.8A6.4 6.4 0 00.09 7.44c0 7.67 11.03 15.03 11.5 15.34a.75.75 0 00.82 0c.47-.31 11.5-7.67 11.5-15.36a6.43 6.43 0 00-6.42-6.3zM12 21.24c-1.98-1.4-10.4-7.7-10.4-13.79A4.93 4.93 0 016.6 2.62a5.03 5.03 0 014.69 3.15c.22.57 1.16.57 1.39 0a5.08 5.08 0 014.7-3.16h.01a4.92 4.92 0 015 4.82c0 6.09-8.42 12.4-10.4 13.8z\"></path></svg></span></button></div><div class=\"_0xLoFW _78xIQ- EJ4MLB JT3_zV\" tabindex=\"-1\"><a class=\"g88eG_ oHRBzn LyRfpJ JT3_zV g88eG_ ONArL- _2dqvZS lfPP-F\" href=\"/diesel-slandy-low-jeans-skinny-fit-indigo-di121n08p-k12.html\" rel=\"\" tabindex=\"-1\"><header><div class=\"hPWzFB\"><span class=\"u-6V88 ka2E9k uMhVZi FxZV-M uc9Eq5 pVrzNP ZkIJC- r9BRio qXofat EKabf7\">Diesel</span><h3 class=\"u-6V88 ka2E9k uMhVZi FxZV-M z-oVg8 pVrzNP ZkIJC- r9BRio qXofat EKabf7\">SLANDY LOW - Jeans Skinny Fit - indigo</h3></div><div class=\"_0xLoFW u9KIT8 _7ckuOK\"><span class=\"u-6V88 ka2E9k uMhVZi FxZV-M z-oVg8 pVrzNP cMfkVL\"><span class=\"aajkfN wOOxir _0m5pni KVKCn3 ZkIJC- r9BRio\"> </span>149,95 €</span></div><div class=\"Bqz_1C\"><div class=\"_0xLoFW PBR5VH FCIprz\"><i class=\"eL2qN- GuRTuo _5Yd-hZ _iBZiM icuzG9 SZZxjn Tytf8G\"><u aria-hidden=\"true\" class=\"DpFnEx wOOxir _0m5pni KVKCn3 ZkIJC- r9BRio\">PlusHorizonalShort</u></i><span class=\"u-6V88 ka2E9k uMhVZi FxZV-M z-oVg8 pVrzNP ZkIJC- r9BRio qXofat EKabf7\">Premium-Lieferung</span></div></div></header></a></div></article></div>"
      ]
     },
     "metadata": {},
     "execution_count": 48
    }
   ],
   "source": [
    "container = containers[0]\n",
    "container"
   ]
  },
  {
   "cell_type": "code",
   "execution_count": 49,
   "metadata": {},
   "outputs": [
    {
     "output_type": "execute_result",
     "data": {
      "text/plain": [
       "[<span class=\"u-6V88 ka2E9k uMhVZi FxZV-M uc9Eq5 pVrzNP ZkIJC- r9BRio qXofat EKabf7\">Diesel</span>]"
      ]
     },
     "metadata": {},
     "execution_count": 49
    }
   ],
   "source": [
    "brand_container = container.findAll('span', {'class': 'u-6V88 ka2E9k uMhVZi FxZV-M uc9Eq5 pVrzNP ZkIJC- r9BRio qXofat EKabf7'})\n",
    "brand_container"
   ]
  },
  {
   "cell_type": "code",
   "execution_count": 50,
   "metadata": {},
   "outputs": [
    {
     "output_type": "execute_result",
     "data": {
      "text/plain": [
       "'Diesel'"
      ]
     },
     "metadata": {},
     "execution_count": 50
    }
   ],
   "source": [
    "brand = brand_container[0].text\n",
    "brand"
   ]
  },
  {
   "cell_type": "code",
   "execution_count": 51,
   "metadata": {},
   "outputs": [
    {
     "output_type": "execute_result",
     "data": {
      "text/plain": [
       "[<h3 class=\"u-6V88 ka2E9k uMhVZi FxZV-M z-oVg8 pVrzNP ZkIJC- r9BRio qXofat EKabf7\">SLANDY LOW - Jeans Skinny Fit - indigo</h3>]"
      ]
     },
     "metadata": {},
     "execution_count": 51
    }
   ],
   "source": [
    "model_container = container.findAll('h3', {'class': 'u-6V88 ka2E9k uMhVZi FxZV-M z-oVg8 pVrzNP ZkIJC- r9BRio qXofat EKabf7'})\n",
    "model_container"
   ]
  },
  {
   "cell_type": "code",
   "execution_count": 52,
   "metadata": {},
   "outputs": [
    {
     "output_type": "execute_result",
     "data": {
      "text/plain": [
       "'SLANDY LOW - Jeans Skinny Fit - indigo'"
      ]
     },
     "metadata": {},
     "execution_count": 52
    }
   ],
   "source": [
    "model = model_container[0].text\n",
    "model"
   ]
  },
  {
   "cell_type": "code",
   "execution_count": 53,
   "metadata": {},
   "outputs": [
    {
     "output_type": "execute_result",
     "data": {
      "text/plain": [
       "[<span class=\"u-6V88 ka2E9k uMhVZi FxZV-M z-oVg8 pVrzNP cMfkVL\"><span class=\"aajkfN wOOxir _0m5pni KVKCn3 ZkIJC- r9BRio\"> </span>149,95 €</span>]"
      ]
     },
     "metadata": {},
     "execution_count": 53
    }
   ],
   "source": [
    "price_container = container.findAll('span', {'class': 'u-6V88 ka2E9k uMhVZi FxZV-M z-oVg8 pVrzNP cMfkVL'})\n",
    "price_container"
   ]
  },
  {
   "cell_type": "code",
   "execution_count": 57,
   "metadata": {},
   "outputs": [
    {
     "output_type": "execute_result",
     "data": {
      "text/plain": [
       "'149,95'"
      ]
     },
     "metadata": {},
     "execution_count": 57
    }
   ],
   "source": [
    "price = price_container[0].text.split()[0]\n",
    "price"
   ]
  },
  {
   "cell_type": "code",
   "execution_count": 55,
   "metadata": {},
   "outputs": [
    {
     "output_type": "error",
     "ename": "IndexError",
     "evalue": "list index out of range",
     "traceback": [
      "\u001b[1;31m---------------------------------------------------------------------------\u001b[0m",
      "\u001b[1;31mIndexError\u001b[0m                                Traceback (most recent call last)",
      "\u001b[1;32m<ipython-input-55-4c0b409736c0>\u001b[0m in \u001b[0;36m<module>\u001b[1;34m\u001b[0m\n\u001b[0;32m      1\u001b[0m \u001b[0mprice_old_container\u001b[0m \u001b[1;33m=\u001b[0m \u001b[0mcontainer\u001b[0m\u001b[1;33m.\u001b[0m\u001b[0mfindAll\u001b[0m\u001b[1;33m(\u001b[0m\u001b[1;34m'span'\u001b[0m\u001b[1;33m,\u001b[0m \u001b[1;33m{\u001b[0m\u001b[1;34m'class'\u001b[0m\u001b[1;33m:\u001b[0m \u001b[1;34m'u-6V88 ka2E9k uMhVZi FxZV-M z-oVg8 weHhRC ZiDB59'\u001b[0m\u001b[1;33m}\u001b[0m\u001b[1;33m)\u001b[0m\u001b[1;33m\u001b[0m\u001b[1;33m\u001b[0m\u001b[0m\n\u001b[1;32m----> 2\u001b[1;33m \u001b[0mprice_old\u001b[0m \u001b[1;33m=\u001b[0m \u001b[0mprice_old_container\u001b[0m\u001b[1;33m[\u001b[0m\u001b[1;36m6\u001b[0m\u001b[1;33m]\u001b[0m\u001b[1;33m.\u001b[0m\u001b[0mtext\u001b[0m\u001b[1;33m\u001b[0m\u001b[1;33m\u001b[0m\u001b[0m\n\u001b[0m\u001b[0;32m      3\u001b[0m \u001b[0mprice_old\u001b[0m\u001b[1;33m\u001b[0m\u001b[1;33m\u001b[0m\u001b[0m\n",
      "\u001b[1;31mIndexError\u001b[0m: list index out of range"
     ]
    }
   ],
   "source": [
    "price_old_container = container.findAll('span', {'class': 'u-6V88 ka2E9k uMhVZi FxZV-M z-oVg8 weHhRC ZiDB59'})\n",
    "price_old = price_old_container[6].text\n",
    "price_old\n"
   ]
  },
  {
   "cell_type": "code",
   "execution_count": null,
   "metadata": {},
   "outputs": [],
   "source": []
  }
 ]
}